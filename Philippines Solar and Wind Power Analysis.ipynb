{
 "cells": [
  {
   "cell_type": "markdown",
   "id": "80430165",
   "metadata": {},
   "source": [
    "## Section 1\n",
    "Sub-question: Are current solar and wind power plants in the country being predominantly built in areas of high solar and wind power potential?\n",
    "\n",
    "1. Heatmap of Ph Regions according to Solar Potential per administrative boundary up to Barangay Level\n",
    "2. Overlay the locations of wind and solar power plants in the country\n",
    "3. Create histogram of # powerplants per band of wind potential per sqm"
   ]
  },
  {
   "cell_type": "markdown",
   "id": "5feab933",
   "metadata": {},
   "source": [
    "#### 1. Heatmap of Ph Regions according to Solar Potential per administrative boundary up to Barangay Level"
   ]
  },
  {
   "cell_type": "markdown",
   "id": "5833b04c",
   "metadata": {},
   "source": [
    "Solar Potential"
   ]
  },
  {
   "cell_type": "code",
   "execution_count": 1,
   "id": "d0b55f9b",
   "metadata": {},
   "outputs": [],
   "source": [
    "import pandas as pd\n",
    "import matplotlib.pyplot as plt\n",
    "import geopandas as gpd\n",
    "import xlsxwriter\n",
    "from shapely.geometry import Point, Polygon"
   ]
  },
  {
   "cell_type": "code",
   "execution_count": 2,
   "id": "6f562f4c",
   "metadata": {},
   "outputs": [],
   "source": [
    "\n",
    "# taken from https://data.humdata.org/dataset/cod-ab-phl\n",
    "fp = \".\\Data\\Shapefiles\\Philippines\\phl_admbnda_adm2_psa_namria_20200529.shp\"\n",
    "map_df = gpd.read_file(fp)\n",
    "map_df.columns\n",
    "map_df = map_df[['ADM2_EN', 'geometry']]\n",
    "\n"
   ]
  },
  {
   "cell_type": "code",
   "execution_count": null,
   "id": "6efbd6aa",
   "metadata": {},
   "outputs": [],
   "source": [
    "# Data for Wind Potential Heatmap\n",
    "datafp = '.\\Data\\WindPotential\\Philippine_regions_windpotential.csv'\n",
    "wind_potential_data = gpd.read_file(datafp)\n",
    "wind_potential_data = wind_potential_data[[\"ADM2_EN\", \"mean_power_density\"]]\n",
    "wind_potential_data.mean_power_density = pd.to_numeric(wind_potential_data.mean_power_density, errors='coerce')\n",
    "\n",
    "merged_wind = map_df.set_index(\"ADM2_EN\").join(wind_potential_data.set_index(\"ADM2_EN\"))\n",
    "variable_wind = \"mean_power_density\"\n",
    "\n",
    "# Data for Solar Potential Heatmap\n",
    "datafp = '.\\Data\\SolarPotential\\Philippine_regions_pvpotential.csv'\n",
    "solar_potential_data = gpd.read_file(datafp)\n",
    "solar_potential_data = solar_potential_data[[\"ADM2_EN\", \"avg_specific_pv_output\"]]\n",
    "solar_potential_data.avg_specific_pv_output = pd.to_numeric(solar_potential_data.avg_specific_pv_output, errors='coerce')\n",
    "\n",
    "merged_solar = map_df.set_index(\"ADM2_EN\").join(solar_potential_data.set_index(\"ADM2_EN\"))\n",
    "variable_solar = \"avg_specific_pv_output\"\n",
    "vmin, vmax = 120, 220\n",
    "\n",
    "# create figure and axes for Matplotlib\n",
    "fig, (ax1,ax2) = plt.subplots(1,2, figsize=(50, 25))\n",
    "\n",
    "# Modifying Axes\n",
    "ax1.axis(\"off\")\n",
    "ax1.set_title(\"Wind Potential\", fontdict = {\"fontsize\": \"25\", \"fontweight\":\"3\"})\n",
    "ax1.tick_params(labelsize=10)\n",
    "ax1.figure.axes[1].tick_params(labelsize=30)\n",
    "#ax1.annotate(\"Source: Global Wind Map, 2022\",xy=(0.1, .08), xycoords=\"figure fraction\", horizontalalignment=\"left\", verticalalignment=\"top\", fontsize=12, color=\"#555555\")\n",
    "\n",
    "ax2.axis(\"off\")\n",
    "ax2.set_title(\"Solar Potential\", fontdict = {\"fontsize\": \"25\", \"fontweight\":\"3\"})\n",
    "ax1.figure.axes[1].tick_params(labelsize=30)\n",
    "#ax2.annotate(\"Source: Global Solar Map, 2022\",xy=(0.1, .1), xycoords=\"figure fraction\", horizontalalignment=\"left\", verticalalignment=\"top\", fontsize=12, color=\"#555555\")\n",
    "\n",
    "\n",
    "# Plotting\n",
    "merged_wind.plot(column=variable_wind, cmap=\"GnBu\", linewidth=0.8, ax=ax1, edgecolor=\"0.8\", legend=True)\n",
    "merged_solar.plot(column=variable_solar, cmap=\"YlOrBr\", linewidth=0.8, ax=ax2, edgecolor=\"0.8\", legend=True)\n"
   ]
  },
  {
   "cell_type": "code",
   "execution_count": null,
   "id": "34d60804",
   "metadata": {},
   "outputs": [],
   "source": [
    "\n",
    "print(list(wind_potential_data[variable_wind]))\n",
    "type(wind_potential_data[variable_wind][0])\n",
    "wind_potential_data.mean_power_density = pd.to_numeric(wind_potential_data.mean_power_density, errors='coerce')\n",
    "type(wind_potential_data[variable_wind][0])\n",
    "\n"
   ]
  },
  {
   "cell_type": "code",
   "execution_count": 3,
   "id": "4b1cc1e2",
   "metadata": {},
   "outputs": [
    {
     "name": "stderr",
     "output_type": "stream",
     "text": [
      "C:\\Users\\rayno\\AppData\\Local\\Temp\\ipykernel_21200\\400905750.py:3: DtypeWarning: Columns (10) have mixed types. Specify dtype option on import or set low_memory=False.\n",
      "  powerplants = pd.read_csv(powerplantsfp)\n",
      "C:\\Program Files\\Python310\\lib\\site-packages\\pyproj\\crs\\crs.py:130: FutureWarning: '+init=<authority>:<code>' syntax is deprecated. '<authority>:<code>' is the preferred initialization method. When making the change, be mindful of axis order changes: https://pyproj4.github.io/pyproj/stable/gotchas.html#axis-order-changes-in-proj-6\n",
      "  in_crs_string = _prepare_from_proj_string(in_crs_string)\n"
     ]
    },
    {
     "ename": "DriverError",
     "evalue": ".\\Data\\SolarPotential\\Philippine_regions_pvpotential.csv: No such file or directory",
     "output_type": "error",
     "traceback": [
      "\u001b[1;31m---------------------------------------------------------------------------\u001b[0m",
      "\u001b[1;31mCPLE_OpenFailedError\u001b[0m                      Traceback (most recent call last)",
      "File \u001b[1;32mfiona\\_shim.pyx:83\u001b[0m, in \u001b[0;36mfiona._shim.gdal_open_vector\u001b[1;34m()\u001b[0m\n",
      "File \u001b[1;32mfiona\\_err.pyx:291\u001b[0m, in \u001b[0;36mfiona._err.exc_wrap_pointer\u001b[1;34m()\u001b[0m\n",
      "\u001b[1;31mCPLE_OpenFailedError\u001b[0m: .\\Data\\SolarPotential\\Philippine_regions_pvpotential.csv: No such file or directory",
      "\nDuring handling of the above exception, another exception occurred:\n",
      "\u001b[1;31mDriverError\u001b[0m                               Traceback (most recent call last)",
      "\u001b[1;32md:\\OneDrive - University of the Philippines\\1 - EDUCATION\\SCHOOLWORK\\Undergraduate\\Semester 6\\CS 132\\Machine Project\\Solar-Wind-Energy-Analysis-Philippines\\Philippines Solar and Wind Power Analysis.ipynb Cell 8'\u001b[0m in \u001b[0;36m<cell line: 14>\u001b[1;34m()\u001b[0m\n\u001b[0;32m     <a href='vscode-notebook-cell:/d%3A/OneDrive%20-%20University%20of%20the%20Philippines/1%20-%20EDUCATION/SCHOOLWORK/Undergraduate/Semester%206/CS%20132/Machine%20Project/Solar-Wind-Energy-Analysis-Philippines/Philippines%20Solar%20and%20Wind%20Power%20Analysis.ipynb#ch0000007?line=11'>12</a>\u001b[0m \u001b[39m# Data for Solar Potential Heatmap\u001b[39;00m\n\u001b[0;32m     <a href='vscode-notebook-cell:/d%3A/OneDrive%20-%20University%20of%20the%20Philippines/1%20-%20EDUCATION/SCHOOLWORK/Undergraduate/Semester%206/CS%20132/Machine%20Project/Solar-Wind-Energy-Analysis-Philippines/Philippines%20Solar%20and%20Wind%20Power%20Analysis.ipynb#ch0000007?line=12'>13</a>\u001b[0m datafp \u001b[39m=\u001b[39m \u001b[39m'\u001b[39m\u001b[39m.\u001b[39m\u001b[39m\\\u001b[39m\u001b[39mData\u001b[39m\u001b[39m\\\u001b[39m\u001b[39mSolarPotential\u001b[39m\u001b[39m\\\u001b[39m\u001b[39mPhilippine_regions_pvpotential.csv\u001b[39m\u001b[39m'\u001b[39m\n\u001b[1;32m---> <a href='vscode-notebook-cell:/d%3A/OneDrive%20-%20University%20of%20the%20Philippines/1%20-%20EDUCATION/SCHOOLWORK/Undergraduate/Semester%206/CS%20132/Machine%20Project/Solar-Wind-Energy-Analysis-Philippines/Philippines%20Solar%20and%20Wind%20Power%20Analysis.ipynb#ch0000007?line=13'>14</a>\u001b[0m solar_potential_data \u001b[39m=\u001b[39m gpd\u001b[39m.\u001b[39;49mread_file(datafp)\n\u001b[0;32m     <a href='vscode-notebook-cell:/d%3A/OneDrive%20-%20University%20of%20the%20Philippines/1%20-%20EDUCATION/SCHOOLWORK/Undergraduate/Semester%206/CS%20132/Machine%20Project/Solar-Wind-Energy-Analysis-Philippines/Philippines%20Solar%20and%20Wind%20Power%20Analysis.ipynb#ch0000007?line=14'>15</a>\u001b[0m solar_potential_data \u001b[39m=\u001b[39m solar_potential_data[[\u001b[39m\"\u001b[39m\u001b[39mADM2_EN\u001b[39m\u001b[39m\"\u001b[39m, \u001b[39m\"\u001b[39m\u001b[39mavg_specific_pv_output\u001b[39m\u001b[39m\"\u001b[39m]]\n\u001b[0;32m     <a href='vscode-notebook-cell:/d%3A/OneDrive%20-%20University%20of%20the%20Philippines/1%20-%20EDUCATION/SCHOOLWORK/Undergraduate/Semester%206/CS%20132/Machine%20Project/Solar-Wind-Energy-Analysis-Philippines/Philippines%20Solar%20and%20Wind%20Power%20Analysis.ipynb#ch0000007?line=15'>16</a>\u001b[0m solar_potential_data\u001b[39m.\u001b[39mavg_specific_pv_output \u001b[39m=\u001b[39m pd\u001b[39m.\u001b[39mto_numeric(solar_potential_data\u001b[39m.\u001b[39mavg_specific_pv_output, errors\u001b[39m=\u001b[39m\u001b[39m'\u001b[39m\u001b[39mcoerce\u001b[39m\u001b[39m'\u001b[39m)\n",
      "File \u001b[1;32mC:\\Program Files\\Python310\\lib\\site-packages\\geopandas\\io\\file.py:201\u001b[0m, in \u001b[0;36m_read_file\u001b[1;34m(filename, bbox, mask, rows, **kwargs)\u001b[0m\n\u001b[0;32m    <a href='file:///c%3A/Program%20Files/Python310/lib/site-packages/geopandas/io/file.py?line=197'>198</a>\u001b[0m     reader \u001b[39m=\u001b[39m fiona\u001b[39m.\u001b[39mopen\n\u001b[0;32m    <a href='file:///c%3A/Program%20Files/Python310/lib/site-packages/geopandas/io/file.py?line=199'>200</a>\u001b[0m \u001b[39mwith\u001b[39;00m fiona_env():\n\u001b[1;32m--> <a href='file:///c%3A/Program%20Files/Python310/lib/site-packages/geopandas/io/file.py?line=200'>201</a>\u001b[0m     \u001b[39mwith\u001b[39;00m reader(path_or_bytes, \u001b[39m*\u001b[39m\u001b[39m*\u001b[39mkwargs) \u001b[39mas\u001b[39;00m features:\n\u001b[0;32m    <a href='file:///c%3A/Program%20Files/Python310/lib/site-packages/geopandas/io/file.py?line=201'>202</a>\u001b[0m \n\u001b[0;32m    <a href='file:///c%3A/Program%20Files/Python310/lib/site-packages/geopandas/io/file.py?line=202'>203</a>\u001b[0m         \u001b[39m# In a future Fiona release the crs attribute of features will\u001b[39;00m\n\u001b[0;32m    <a href='file:///c%3A/Program%20Files/Python310/lib/site-packages/geopandas/io/file.py?line=203'>204</a>\u001b[0m         \u001b[39m# no longer be a dict, but will behave like a dict. So this should\u001b[39;00m\n\u001b[0;32m    <a href='file:///c%3A/Program%20Files/Python310/lib/site-packages/geopandas/io/file.py?line=204'>205</a>\u001b[0m         \u001b[39m# be forwards compatible\u001b[39;00m\n\u001b[0;32m    <a href='file:///c%3A/Program%20Files/Python310/lib/site-packages/geopandas/io/file.py?line=205'>206</a>\u001b[0m         crs \u001b[39m=\u001b[39m (\n\u001b[0;32m    <a href='file:///c%3A/Program%20Files/Python310/lib/site-packages/geopandas/io/file.py?line=206'>207</a>\u001b[0m             features\u001b[39m.\u001b[39mcrs[\u001b[39m\"\u001b[39m\u001b[39minit\u001b[39m\u001b[39m\"\u001b[39m]\n\u001b[0;32m    <a href='file:///c%3A/Program%20Files/Python310/lib/site-packages/geopandas/io/file.py?line=207'>208</a>\u001b[0m             \u001b[39mif\u001b[39;00m features\u001b[39m.\u001b[39mcrs \u001b[39mand\u001b[39;00m \u001b[39m\"\u001b[39m\u001b[39minit\u001b[39m\u001b[39m\"\u001b[39m \u001b[39min\u001b[39;00m features\u001b[39m.\u001b[39mcrs\n\u001b[0;32m    <a href='file:///c%3A/Program%20Files/Python310/lib/site-packages/geopandas/io/file.py?line=208'>209</a>\u001b[0m             \u001b[39melse\u001b[39;00m features\u001b[39m.\u001b[39mcrs_wkt\n\u001b[0;32m    <a href='file:///c%3A/Program%20Files/Python310/lib/site-packages/geopandas/io/file.py?line=209'>210</a>\u001b[0m         )\n\u001b[0;32m    <a href='file:///c%3A/Program%20Files/Python310/lib/site-packages/geopandas/io/file.py?line=211'>212</a>\u001b[0m         \u001b[39m# handle loading the bounding box\u001b[39;00m\n",
      "File \u001b[1;32mC:\\Program Files\\Python310\\lib\\site-packages\\fiona\\env.py:408\u001b[0m, in \u001b[0;36mensure_env_with_credentials.<locals>.wrapper\u001b[1;34m(*args, **kwargs)\u001b[0m\n\u001b[0;32m    <a href='file:///c%3A/Program%20Files/Python310/lib/site-packages/fiona/env.py?line=404'>405</a>\u001b[0m \u001b[39m@wraps\u001b[39m(f)\n\u001b[0;32m    <a href='file:///c%3A/Program%20Files/Python310/lib/site-packages/fiona/env.py?line=405'>406</a>\u001b[0m \u001b[39mdef\u001b[39;00m \u001b[39mwrapper\u001b[39m(\u001b[39m*\u001b[39margs, \u001b[39m*\u001b[39m\u001b[39m*\u001b[39mkwargs):\n\u001b[0;32m    <a href='file:///c%3A/Program%20Files/Python310/lib/site-packages/fiona/env.py?line=406'>407</a>\u001b[0m     \u001b[39mif\u001b[39;00m local\u001b[39m.\u001b[39m_env:\n\u001b[1;32m--> <a href='file:///c%3A/Program%20Files/Python310/lib/site-packages/fiona/env.py?line=407'>408</a>\u001b[0m         \u001b[39mreturn\u001b[39;00m f(\u001b[39m*\u001b[39margs, \u001b[39m*\u001b[39m\u001b[39m*\u001b[39mkwargs)\n\u001b[0;32m    <a href='file:///c%3A/Program%20Files/Python310/lib/site-packages/fiona/env.py?line=408'>409</a>\u001b[0m     \u001b[39melse\u001b[39;00m:\n\u001b[0;32m    <a href='file:///c%3A/Program%20Files/Python310/lib/site-packages/fiona/env.py?line=409'>410</a>\u001b[0m         \u001b[39mif\u001b[39;00m \u001b[39misinstance\u001b[39m(args[\u001b[39m0\u001b[39m], \u001b[39mstr\u001b[39m):\n",
      "File \u001b[1;32mC:\\Program Files\\Python310\\lib\\site-packages\\fiona\\__init__.py:267\u001b[0m, in \u001b[0;36mopen\u001b[1;34m(fp, mode, driver, schema, crs, encoding, layer, vfs, enabled_drivers, crs_wkt, **kwargs)\u001b[0m\n\u001b[0;32m    <a href='file:///c%3A/Program%20Files/Python310/lib/site-packages/fiona/__init__.py?line=263'>264</a>\u001b[0m     path \u001b[39m=\u001b[39m parse_path(fp)\n\u001b[0;32m    <a href='file:///c%3A/Program%20Files/Python310/lib/site-packages/fiona/__init__.py?line=265'>266</a>\u001b[0m \u001b[39mif\u001b[39;00m mode \u001b[39min\u001b[39;00m (\u001b[39m'\u001b[39m\u001b[39ma\u001b[39m\u001b[39m'\u001b[39m, \u001b[39m'\u001b[39m\u001b[39mr\u001b[39m\u001b[39m'\u001b[39m):\n\u001b[1;32m--> <a href='file:///c%3A/Program%20Files/Python310/lib/site-packages/fiona/__init__.py?line=266'>267</a>\u001b[0m     c \u001b[39m=\u001b[39m Collection(path, mode, driver\u001b[39m=\u001b[39mdriver, encoding\u001b[39m=\u001b[39mencoding,\n\u001b[0;32m    <a href='file:///c%3A/Program%20Files/Python310/lib/site-packages/fiona/__init__.py?line=267'>268</a>\u001b[0m                    layer\u001b[39m=\u001b[39mlayer, enabled_drivers\u001b[39m=\u001b[39menabled_drivers, \u001b[39m*\u001b[39m\u001b[39m*\u001b[39mkwargs)\n\u001b[0;32m    <a href='file:///c%3A/Program%20Files/Python310/lib/site-packages/fiona/__init__.py?line=268'>269</a>\u001b[0m \u001b[39melif\u001b[39;00m mode \u001b[39m==\u001b[39m \u001b[39m'\u001b[39m\u001b[39mw\u001b[39m\u001b[39m'\u001b[39m:\n\u001b[0;32m    <a href='file:///c%3A/Program%20Files/Python310/lib/site-packages/fiona/__init__.py?line=269'>270</a>\u001b[0m     \u001b[39mif\u001b[39;00m schema:\n\u001b[0;32m    <a href='file:///c%3A/Program%20Files/Python310/lib/site-packages/fiona/__init__.py?line=270'>271</a>\u001b[0m         \u001b[39m# Make an ordered dict of schema properties.\u001b[39;00m\n",
      "File \u001b[1;32mC:\\Program Files\\Python310\\lib\\site-packages\\fiona\\collection.py:162\u001b[0m, in \u001b[0;36mCollection.__init__\u001b[1;34m(self, path, mode, driver, schema, crs, encoding, layer, vsi, archive, enabled_drivers, crs_wkt, ignore_fields, ignore_geometry, **kwargs)\u001b[0m\n\u001b[0;32m    <a href='file:///c%3A/Program%20Files/Python310/lib/site-packages/fiona/collection.py?line=159'>160</a>\u001b[0m \u001b[39mif\u001b[39;00m \u001b[39mself\u001b[39m\u001b[39m.\u001b[39mmode \u001b[39m==\u001b[39m \u001b[39m'\u001b[39m\u001b[39mr\u001b[39m\u001b[39m'\u001b[39m:\n\u001b[0;32m    <a href='file:///c%3A/Program%20Files/Python310/lib/site-packages/fiona/collection.py?line=160'>161</a>\u001b[0m     \u001b[39mself\u001b[39m\u001b[39m.\u001b[39msession \u001b[39m=\u001b[39m Session()\n\u001b[1;32m--> <a href='file:///c%3A/Program%20Files/Python310/lib/site-packages/fiona/collection.py?line=161'>162</a>\u001b[0m     \u001b[39mself\u001b[39m\u001b[39m.\u001b[39msession\u001b[39m.\u001b[39mstart(\u001b[39mself\u001b[39m, \u001b[39m*\u001b[39m\u001b[39m*\u001b[39mkwargs)\n\u001b[0;32m    <a href='file:///c%3A/Program%20Files/Python310/lib/site-packages/fiona/collection.py?line=162'>163</a>\u001b[0m \u001b[39melif\u001b[39;00m \u001b[39mself\u001b[39m\u001b[39m.\u001b[39mmode \u001b[39min\u001b[39;00m (\u001b[39m'\u001b[39m\u001b[39ma\u001b[39m\u001b[39m'\u001b[39m, \u001b[39m'\u001b[39m\u001b[39mw\u001b[39m\u001b[39m'\u001b[39m):\n\u001b[0;32m    <a href='file:///c%3A/Program%20Files/Python310/lib/site-packages/fiona/collection.py?line=163'>164</a>\u001b[0m     \u001b[39mself\u001b[39m\u001b[39m.\u001b[39msession \u001b[39m=\u001b[39m WritingSession()\n",
      "File \u001b[1;32mfiona\\ogrext.pyx:540\u001b[0m, in \u001b[0;36mfiona.ogrext.Session.start\u001b[1;34m()\u001b[0m\n",
      "File \u001b[1;32mfiona\\_shim.pyx:90\u001b[0m, in \u001b[0;36mfiona._shim.gdal_open_vector\u001b[1;34m()\u001b[0m\n",
      "\u001b[1;31mDriverError\u001b[0m: .\\Data\\SolarPotential\\Philippine_regions_pvpotential.csv: No such file or directory"
     ]
    },
    {
     "data": {
      "image/png": "[encoded data removed]",
      "text/plain": [
       "<Figure size 1440x1440 with 1 Axes>"
      ]
     },
     "metadata": {
      "needs_background": "light"
     },
     "output_type": "display_data"
    }
   ],
   "source": [
    "# PowerPlants\n",
    "powerplantsfp = '.\\Data\\PowerPlants\\global_power_plant_database.csv'\n",
    "powerplants = pd.read_csv(powerplantsfp)\n",
    "powerplants = powerplants[powerplants.country_long == 'Philippines']\n",
    "powerplants = powerplants[powerplants.primary_fuel == 'Solar']\n",
    "crs = {'init':'epsg:4326'}\n",
    "geometry=[Point(xy) for xy in zip(powerplants[\"longitude\"], powerplants[\"latitude\"])]\n",
    "geodata=gpd.GeoDataFrame(powerplants,crs=crs, geometry=geometry)\n",
    "\n",
    "fig, ax = plt.subplots(figsize=(20,20))\n",
    "\n",
    "# Data for Solar Potential Heatmap\n",
    "datafp = '.\\Data\\SolarPotential\\Philippine_regions_pvpotential.csv'\n",
    "solar_potential_data = gpd.read_file(datafp)\n",
    "solar_potential_data = solar_potential_data[[\"ADM2_EN\", \"avg_specific_pv_output\"]]\n",
    "solar_potential_data.avg_specific_pv_output = pd.to_numeric(solar_potential_data.avg_specific_pv_output, errors='coerce')\n",
    "\n",
    "merged_solar = map_df.set_index(\"ADM2_EN\").join(solar_potential_data.set_index(\"ADM2_EN\"))\n",
    "variable_solar = \"avg_specific_pv_output\"\n",
    "\n",
    "merged_solar.plot(column=variable_solar, cmap=\"YlOrBr\", linewidth=0.8, ax=ax, edgecolor='k', alpha=1, legend=True)\n",
    "geodata.plot(ax=ax, color='red', markersize=20)\n",
    "\n",
    "fig.suptitle('Random locations', fontsize=12)\n",
    "ax.set_xlabel('Longitude', fontsize=10)\n",
    "ax.set_ylabel('Latitude', fontsize='medium')\n"
   ]
  },
  {
   "cell_type": "markdown",
   "id": "e1e365e2",
   "metadata": {},
   "source": [
    "## Section 2\n",
    "\n",
    "Sub-question: How much wind and solar energy is the Philippines projected to generate in the future? Can countries around the world be clustered based on solar and wind capacity, population, and GDP? If so, to which cluster does the Philippines belong, and has its cluster membership changed over time?\n",
    "\n",
    "1. Take time-series data on [GDP, population, solar and wind capacity] per country. \n",
    "2. Perform KNN on the dataset from 1 per year, animate the result. Display in a 3D graph.\n",
    "3. Highlight the Philippines performance and other notable countries in the KNN animation. Analysis.\n",
    "\n",
    "4. Train a sequential NN on (gdp, population, cost of wind/solar power generation, cost of battery storage). \n",
    "5. Predict for coming 30 years based on projected gdp, solar/wind cost, population, and cost of battery storage)\n",
    "\n",
    "6. Repeat 4 and 5 but on a RNN\n"
   ]
  },
  {
   "cell_type": "code",
   "execution_count": null,
   "id": "d3a7e1a3",
   "metadata": {},
   "outputs": [],
   "source": []
  }
 ],
 "metadata": {
  "kernelspec": {
   "display_name": "Python 3 (ipykernel)",
   "language": "python",
   "name": "python3"
  },
  "language_info": {
   "codemirror_mode": {
    "name": "ipython",
    "version": 3
   },
   "file_extension": ".py",
   "mimetype": "text/x-python",
   "name": "python",
   "nbconvert_exporter": "python",
   "pygments_lexer": "ipython3",
   "version": "3.10.4"
  }
 },
 "nbformat": 4,
 "nbformat_minor": 5
}
