{
 "cells": [
  {
   "cell_type": "code",
   "execution_count": 30,
   "metadata": {},
   "outputs": [],
   "source": [
    "import pandas as pd\n",
    "import matplotlib.pyplot as plt\n",
    "import geopandas as gpd\n",
    "import xlsxwriter\n",
    "from shapely.geometry import Point, Polygon\n",
    "import seaborn as sns"
   ]
  },
  {
   "cell_type": "code",
   "execution_count": 4,
   "metadata": {},
   "outputs": [
    {
     "data": {
      "text/plain": [
       "0     0.334223\n",
       "1     0.220065\n",
       "2     0.693968\n",
       "3     0.139664\n",
       "4     0.205939\n",
       "        ...   \n",
       "82    0.094186\n",
       "83    0.313705\n",
       "84    0.515482\n",
       "85    0.439807\n",
       "86    0.223408\n",
       "Name: Shape_Area, Length: 87, dtype: float64"
      ]
     },
     "execution_count": 4,
     "metadata": {},
     "output_type": "execute_result"
    }
   ],
   "source": [
    "\n",
    "# taken from https://data.humdata.org/dataset/cod-ab-phl\n",
    "fp = \".\\Data\\Shapefiles\\Philippines\\phl_admbnda_adm2_psa_namria_20200529.shp\"\n",
    "map_df = gpd.read_file(fp)\n",
    "map_df.columns\n",
    "#map_df = map_df[['ADM2_EN', 'geometry']]\n",
    "#map_df.Shape_Area"
   ]
  },
  {
   "cell_type": "code",
   "execution_count": 28,
   "metadata": {},
   "outputs": [],
   "source": [
    "# Data for Solar Potential Heatmap\n",
    "datafp = '.\\Data\\SolarPotential\\Philippine_regions_pvpotential.csv'\n",
    "solar_potential_data = gpd.read_file(datafp)\n",
    "solar_potential_data = solar_potential_data[[\"ADM2_EN\", \"avg_specific_pv_output\"]]\n",
    "solar_potential_data.avg_specific_pv_output = pd.to_numeric(solar_potential_data.avg_specific_pv_output, errors='coerce')\n",
    "\n",
    "merged_solar = map_df.set_index(\"ADM2_EN\").join(solar_potential_data.set_index(\"ADM2_EN\"))\n",
    "variable_solar = \"avg_specific_pv_output\""
   ]
  },
  {
   "cell_type": "code",
   "execution_count": 7,
   "metadata": {},
   "outputs": [
    {
     "data": {
      "text/plain": [
       "0    POLYGON ((120.96109 17.95348, 120.97201 17.946...\n",
       "1    MULTIPOLYGON (((125.58886 9.45793, 125.59687 9...\n",
       "2    POLYGON ((125.88961 8.98195, 125.88896 8.96446...\n",
       "3    MULTIPOLYGON (((122.43980 11.59717, 122.43979 ...\n",
       "4    MULTIPOLYGON (((124.20992 13.16871, 124.20993 ...\n",
       "Name: geometry, dtype: geometry"
      ]
     },
     "execution_count": 7,
     "metadata": {},
     "output_type": "execute_result"
    }
   ],
   "source": [
    "map_df.geometry.head()"
   ]
  },
  {
   "cell_type": "code",
   "execution_count": 32,
   "metadata": {},
   "outputs": [
    {
     "data": {
      "image/png": "[encoded data removed]",
      "text/plain": [
       "<Figure size 432x288 with 1 Axes>"
      ]
     },
     "metadata": {
      "needs_background": "light"
     },
     "output_type": "display_data"
    }
   ],
   "source": [
    "ax = sns.histplot(data=merged_solar, x ='avg_specific_pv_output', bins = 10)"
   ]
  },
  {
   "cell_type": "code",
   "execution_count": 95,
   "metadata": {},
   "outputs": [
    {
     "name": "stderr",
     "output_type": "stream",
     "text": [
      "C:\\Users\\rayno\\AppData\\Local\\Temp\\ipykernel_7792\\1912020298.py:3: DtypeWarning: Columns (10) have mixed types. Specify dtype option on import or set low_memory=False.\n",
      "  powerplants = pd.read_csv(powerplantsfp)\n",
      "C:\\Program Files\\Python310\\lib\\site-packages\\pyproj\\crs\\crs.py:130: FutureWarning: '+init=<authority>:<code>' syntax is deprecated. '<authority>:<code>' is the preferred initialization method. When making the change, be mindful of axis order changes: https://pyproj4.github.io/pyproj/stable/gotchas.html#axis-order-changes-in-proj-6\n",
      "  in_crs_string = _prepare_from_proj_string(in_crs_string)\n"
     ]
    }
   ],
   "source": [
    "# PowerPlants\n",
    "powerplantsfp = '.\\Data\\PowerPlants\\global_power_plant_database.csv'\n",
    "powerplants = pd.read_csv(powerplantsfp)\n",
    "powerplants = powerplants[powerplants.country_long == 'Philippines']\n",
    "powerplants = powerplants[powerplants.primary_fuel == 'Solar']\n",
    "powerplants.capacity_mw = pd.to_numeric(powerplants.capacity_mw, errors='coerce')\n",
    "crs = {'init':'epsg:4326'}\n",
    "geometry=[Point(xy) for xy in zip(powerplants[\"longitude\"], powerplants[\"latitude\"])]\n",
    "geodata=gpd.GeoDataFrame(powerplants,crs=crs, geometry=geometry)\n",
    "\n",
    "#fig, ax = plt.subplots(figsize=(20,20))"
   ]
  },
  {
   "cell_type": "code",
   "execution_count": 96,
   "metadata": {},
   "outputs": [
    {
     "data": {
      "text/plain": [
       "<AxesSubplot:>"
      ]
     },
     "execution_count": 96,
     "metadata": {},
     "output_type": "execute_result"
    },
    {
     "data": {
      "image/png": "[encoded data removed]",
      "text/plain": [
       "<Figure size 432x288 with 1 Axes>"
      ]
     },
     "metadata": {
      "needs_background": "light"
     },
     "output_type": "display_data"
    }
   ],
   "source": [
    "powerplants.capacity_mw.hist()"
   ]
  },
  {
   "cell_type": "code",
   "execution_count": 97,
   "metadata": {},
   "outputs": [
    {
     "data": {
      "text/html": [
       "<div>\n",
       "<style scoped>\n",
       "    .dataframe tbody tr th:only-of-type {\n",
       "        vertical-align: middle;\n",
       "    }\n",
       "\n",
       "    .dataframe tbody tr th {\n",
       "        vertical-align: top;\n",
       "    }\n",
       "\n",
       "    .dataframe thead th {\n",
       "        text-align: right;\n",
       "    }\n",
       "</style>\n",
       "<table border=\"1\" class=\"dataframe\">\n",
       "  <thead>\n",
       "    <tr style=\"text-align: right;\">\n",
       "      <th></th>\n",
       "      <th>country</th>\n",
       "      <th>country_long</th>\n",
       "      <th>name</th>\n",
       "      <th>gppd_idnr</th>\n",
       "      <th>capacity_mw</th>\n",
       "      <th>latitude</th>\n",
       "      <th>longitude</th>\n",
       "      <th>primary_fuel</th>\n",
       "      <th>other_fuel1</th>\n",
       "      <th>other_fuel2</th>\n",
       "      <th>...</th>\n",
       "      <th>estimated_generation_gwh_2016</th>\n",
       "      <th>estimated_generation_gwh_2017</th>\n",
       "      <th>estimated_generation_note_2013</th>\n",
       "      <th>estimated_generation_note_2014</th>\n",
       "      <th>estimated_generation_note_2015</th>\n",
       "      <th>estimated_generation_note_2016</th>\n",
       "      <th>estimated_generation_note_2017</th>\n",
       "      <th>geometry</th>\n",
       "      <th>avg_specific_pv_output</th>\n",
       "      <th>avg_specific_pv_output_bin</th>\n",
       "    </tr>\n",
       "  </thead>\n",
       "  <tbody>\n",
       "    <tr>\n",
       "      <th>18321</th>\n",
       "      <td>PHL</td>\n",
       "      <td>Philippines</td>\n",
       "      <td>Armenia Solar</td>\n",
       "      <td>WRI1029964</td>\n",
       "      <td>8.8</td>\n",
       "      <td>15.4605</td>\n",
       "      <td>120.5918</td>\n",
       "      <td>Solar</td>\n",
       "      <td>NaN</td>\n",
       "      <td>NaN</td>\n",
       "      <td>...</td>\n",
       "      <td>NaN</td>\n",
       "      <td>15.43</td>\n",
       "      <td>NO-ESTIMATION</td>\n",
       "      <td>NO-ESTIMATION</td>\n",
       "      <td>NO-ESTIMATION</td>\n",
       "      <td>NO-ESTIMATION</td>\n",
       "      <td>SOLAR-V1</td>\n",
       "      <td>POINT (120.59180 15.46050)</td>\n",
       "      <td>None</td>\n",
       "      <td>None</td>\n",
       "    </tr>\n",
       "    <tr>\n",
       "      <th>18332</th>\n",
       "      <td>PHL</td>\n",
       "      <td>Philippines</td>\n",
       "      <td>Burgos</td>\n",
       "      <td>WKS0065263</td>\n",
       "      <td>4.1</td>\n",
       "      <td>18.5280</td>\n",
       "      <td>120.6378</td>\n",
       "      <td>Solar</td>\n",
       "      <td>NaN</td>\n",
       "      <td>NaN</td>\n",
       "      <td>...</td>\n",
       "      <td>7.62</td>\n",
       "      <td>7.57</td>\n",
       "      <td>SOLAR-V1-NO-AGE</td>\n",
       "      <td>SOLAR-V1-NO-AGE</td>\n",
       "      <td>SOLAR-V1-NO-AGE</td>\n",
       "      <td>SOLAR-V1-NO-AGE</td>\n",
       "      <td>SOLAR-V1-NO-AGE</td>\n",
       "      <td>POINT (120.63780 18.52800)</td>\n",
       "      <td>None</td>\n",
       "      <td>None</td>\n",
       "    </tr>\n",
       "    <tr>\n",
       "      <th>18340</th>\n",
       "      <td>PHL</td>\n",
       "      <td>Philippines</td>\n",
       "      <td>CW Home Depot Solar</td>\n",
       "      <td>WRI1030484</td>\n",
       "      <td>1.7</td>\n",
       "      <td>14.2666</td>\n",
       "      <td>121.0790</td>\n",
       "      <td>Solar</td>\n",
       "      <td>NaN</td>\n",
       "      <td>NaN</td>\n",
       "      <td>...</td>\n",
       "      <td>NaN</td>\n",
       "      <td>2.30</td>\n",
       "      <td>NO-ESTIMATION</td>\n",
       "      <td>NO-ESTIMATION</td>\n",
       "      <td>NO-ESTIMATION</td>\n",
       "      <td>NO-ESTIMATION</td>\n",
       "      <td>CAPACITY-FACTOR-V1</td>\n",
       "      <td>POINT (121.07900 14.26660)</td>\n",
       "      <td>None</td>\n",
       "      <td>None</td>\n",
       "    </tr>\n",
       "    <tr>\n",
       "      <th>18341</th>\n",
       "      <td>PHL</td>\n",
       "      <td>Philippines</td>\n",
       "      <td>Cabanatuan Solar</td>\n",
       "      <td>WRI1023900</td>\n",
       "      <td>10.3</td>\n",
       "      <td>15.4968</td>\n",
       "      <td>120.9921</td>\n",
       "      <td>Solar</td>\n",
       "      <td>NaN</td>\n",
       "      <td>NaN</td>\n",
       "      <td>...</td>\n",
       "      <td>NaN</td>\n",
       "      <td>18.96</td>\n",
       "      <td>NO-ESTIMATION</td>\n",
       "      <td>NO-ESTIMATION</td>\n",
       "      <td>NO-ESTIMATION</td>\n",
       "      <td>NO-ESTIMATION</td>\n",
       "      <td>SOLAR-V1</td>\n",
       "      <td>POINT (120.99210 15.49680)</td>\n",
       "      <td>None</td>\n",
       "      <td>None</td>\n",
       "    </tr>\n",
       "    <tr>\n",
       "      <th>18343</th>\n",
       "      <td>PHL</td>\n",
       "      <td>Philippines</td>\n",
       "      <td>Calatagan Solar</td>\n",
       "      <td>WRI1023901</td>\n",
       "      <td>63.3</td>\n",
       "      <td>13.9155</td>\n",
       "      <td>120.6498</td>\n",
       "      <td>Solar</td>\n",
       "      <td>NaN</td>\n",
       "      <td>NaN</td>\n",
       "      <td>...</td>\n",
       "      <td>NaN</td>\n",
       "      <td>127.73</td>\n",
       "      <td>NO-ESTIMATION</td>\n",
       "      <td>NO-ESTIMATION</td>\n",
       "      <td>NO-ESTIMATION</td>\n",
       "      <td>NO-ESTIMATION</td>\n",
       "      <td>SOLAR-V1</td>\n",
       "      <td>POINT (120.64980 13.91550)</td>\n",
       "      <td>None</td>\n",
       "      <td>None</td>\n",
       "    </tr>\n",
       "  </tbody>\n",
       "</table>\n",
       "<p>5 rows × 39 columns</p>\n",
       "</div>"
      ],
      "text/plain": [
       "      country country_long                 name   gppd_idnr  capacity_mw  \\\n",
       "18321     PHL  Philippines        Armenia Solar  WRI1029964          8.8   \n",
       "18332     PHL  Philippines               Burgos  WKS0065263          4.1   \n",
       "18340     PHL  Philippines  CW Home Depot Solar  WRI1030484          1.7   \n",
       "18341     PHL  Philippines     Cabanatuan Solar  WRI1023900         10.3   \n",
       "18343     PHL  Philippines      Calatagan Solar  WRI1023901         63.3   \n",
       "\n",
       "       latitude  longitude primary_fuel other_fuel1 other_fuel2  ...  \\\n",
       "18321   15.4605   120.5918        Solar         NaN         NaN  ...   \n",
       "18332   18.5280   120.6378        Solar         NaN         NaN  ...   \n",
       "18340   14.2666   121.0790        Solar         NaN         NaN  ...   \n",
       "18341   15.4968   120.9921        Solar         NaN         NaN  ...   \n",
       "18343   13.9155   120.6498        Solar         NaN         NaN  ...   \n",
       "\n",
       "      estimated_generation_gwh_2016  estimated_generation_gwh_2017  \\\n",
       "18321                           NaN                          15.43   \n",
       "18332                          7.62                           7.57   \n",
       "18340                           NaN                           2.30   \n",
       "18341                           NaN                          18.96   \n",
       "18343                           NaN                         127.73   \n",
       "\n",
       "      estimated_generation_note_2013 estimated_generation_note_2014  \\\n",
       "18321                  NO-ESTIMATION                  NO-ESTIMATION   \n",
       "18332                SOLAR-V1-NO-AGE                SOLAR-V1-NO-AGE   \n",
       "18340                  NO-ESTIMATION                  NO-ESTIMATION   \n",
       "18341                  NO-ESTIMATION                  NO-ESTIMATION   \n",
       "18343                  NO-ESTIMATION                  NO-ESTIMATION   \n",
       "\n",
       "      estimated_generation_note_2015 estimated_generation_note_2016  \\\n",
       "18321                  NO-ESTIMATION                  NO-ESTIMATION   \n",
       "18332                SOLAR-V1-NO-AGE                SOLAR-V1-NO-AGE   \n",
       "18340                  NO-ESTIMATION                  NO-ESTIMATION   \n",
       "18341                  NO-ESTIMATION                  NO-ESTIMATION   \n",
       "18343                  NO-ESTIMATION                  NO-ESTIMATION   \n",
       "\n",
       "      estimated_generation_note_2017                    geometry  \\\n",
       "18321                       SOLAR-V1  POINT (120.59180 15.46050)   \n",
       "18332                SOLAR-V1-NO-AGE  POINT (120.63780 18.52800)   \n",
       "18340             CAPACITY-FACTOR-V1  POINT (121.07900 14.26660)   \n",
       "18341                       SOLAR-V1  POINT (120.99210 15.49680)   \n",
       "18343                       SOLAR-V1  POINT (120.64980 13.91550)   \n",
       "\n",
       "       avg_specific_pv_output  avg_specific_pv_output_bin  \n",
       "18321                    None                        None  \n",
       "18332                    None                        None  \n",
       "18340                    None                        None  \n",
       "18341                    None                        None  \n",
       "18343                    None                        None  \n",
       "\n",
       "[5 rows x 39 columns]"
      ]
     },
     "execution_count": 97,
     "metadata": {},
     "output_type": "execute_result"
    }
   ],
   "source": [
    "powerplants[variable_solar] = None\n",
    "powerplants[variable_solar+\"_bin\"] = None\n",
    "powerplants.head()"
   ]
  },
  {
   "cell_type": "code",
   "execution_count": 98,
   "metadata": {},
   "outputs": [
    {
     "data": {
      "text/html": [
       "<div>\n",
       "<style scoped>\n",
       "    .dataframe tbody tr th:only-of-type {\n",
       "        vertical-align: middle;\n",
       "    }\n",
       "\n",
       "    .dataframe tbody tr th {\n",
       "        vertical-align: top;\n",
       "    }\n",
       "\n",
       "    .dataframe thead th {\n",
       "        text-align: right;\n",
       "    }\n",
       "</style>\n",
       "<table border=\"1\" class=\"dataframe\">\n",
       "  <thead>\n",
       "    <tr style=\"text-align: right;\">\n",
       "      <th></th>\n",
       "      <th>Shape_Leng</th>\n",
       "      <th>Shape_Area</th>\n",
       "      <th>ADM2_PCODE</th>\n",
       "      <th>ADM2_REF</th>\n",
       "      <th>ADM2ALT1EN</th>\n",
       "      <th>ADM2ALT2EN</th>\n",
       "      <th>ADM1_EN</th>\n",
       "      <th>ADM1_PCODE</th>\n",
       "      <th>ADM0_EN</th>\n",
       "      <th>ADM0_PCODE</th>\n",
       "      <th>date</th>\n",
       "      <th>validOn</th>\n",
       "      <th>validTo</th>\n",
       "      <th>geometry</th>\n",
       "      <th>avg_specific_pv_output</th>\n",
       "    </tr>\n",
       "    <tr>\n",
       "      <th>ADM2_EN</th>\n",
       "      <th></th>\n",
       "      <th></th>\n",
       "      <th></th>\n",
       "      <th></th>\n",
       "      <th></th>\n",
       "      <th></th>\n",
       "      <th></th>\n",
       "      <th></th>\n",
       "      <th></th>\n",
       "      <th></th>\n",
       "      <th></th>\n",
       "      <th></th>\n",
       "      <th></th>\n",
       "      <th></th>\n",
       "      <th></th>\n",
       "    </tr>\n",
       "  </thead>\n",
       "  <tbody>\n",
       "    <tr>\n",
       "      <th>Abra</th>\n",
       "      <td>2.640967</td>\n",
       "      <td>0.334223</td>\n",
       "      <td>PH140100000</td>\n",
       "      <td>None</td>\n",
       "      <td>None</td>\n",
       "      <td>None</td>\n",
       "      <td>Cordillera Administrative Region</td>\n",
       "      <td>PH140000000</td>\n",
       "      <td>Philippines (the)</td>\n",
       "      <td>PH</td>\n",
       "      <td>2016-06-30</td>\n",
       "      <td>2020-05-29</td>\n",
       "      <td>None</td>\n",
       "      <td>POLYGON ((120.96109 17.95348, 120.97201 17.946...</td>\n",
       "      <td>4.16</td>\n",
       "    </tr>\n",
       "    <tr>\n",
       "      <th>Agusan del Norte</th>\n",
       "      <td>3.674955</td>\n",
       "      <td>0.220065</td>\n",
       "      <td>PH160200000</td>\n",
       "      <td>None</td>\n",
       "      <td>None</td>\n",
       "      <td>None</td>\n",
       "      <td>Region XIII</td>\n",
       "      <td>PH160000000</td>\n",
       "      <td>Philippines (the)</td>\n",
       "      <td>PH</td>\n",
       "      <td>2016-06-30</td>\n",
       "      <td>2020-05-29</td>\n",
       "      <td>None</td>\n",
       "      <td>MULTIPOLYGON (((125.58886 9.45793, 125.59687 9...</td>\n",
       "      <td>3.55</td>\n",
       "    </tr>\n",
       "    <tr>\n",
       "      <th>Agusan del Sur</th>\n",
       "      <td>5.222636</td>\n",
       "      <td>0.693968</td>\n",
       "      <td>PH160300000</td>\n",
       "      <td>None</td>\n",
       "      <td>None</td>\n",
       "      <td>None</td>\n",
       "      <td>Region XIII</td>\n",
       "      <td>PH160000000</td>\n",
       "      <td>Philippines (the)</td>\n",
       "      <td>PH</td>\n",
       "      <td>2016-06-30</td>\n",
       "      <td>2020-05-29</td>\n",
       "      <td>None</td>\n",
       "      <td>POLYGON ((125.88961 8.98195, 125.88896 8.96446...</td>\n",
       "      <td>3.69</td>\n",
       "    </tr>\n",
       "    <tr>\n",
       "      <th>Aklan</th>\n",
       "      <td>4.626091</td>\n",
       "      <td>0.139664</td>\n",
       "      <td>PH060400000</td>\n",
       "      <td>None</td>\n",
       "      <td>None</td>\n",
       "      <td>None</td>\n",
       "      <td>Region VI</td>\n",
       "      <td>PH060000000</td>\n",
       "      <td>Philippines (the)</td>\n",
       "      <td>PH</td>\n",
       "      <td>2016-06-30</td>\n",
       "      <td>2020-05-29</td>\n",
       "      <td>None</td>\n",
       "      <td>MULTIPOLYGON (((122.43980 11.59717, 122.43979 ...</td>\n",
       "      <td>3.62</td>\n",
       "    </tr>\n",
       "    <tr>\n",
       "      <th>Albay</th>\n",
       "      <td>6.507665</td>\n",
       "      <td>0.205939</td>\n",
       "      <td>PH050500000</td>\n",
       "      <td>None</td>\n",
       "      <td>None</td>\n",
       "      <td>None</td>\n",
       "      <td>Region V</td>\n",
       "      <td>PH050000000</td>\n",
       "      <td>Philippines (the)</td>\n",
       "      <td>PH</td>\n",
       "      <td>2016-06-30</td>\n",
       "      <td>2020-05-29</td>\n",
       "      <td>None</td>\n",
       "      <td>MULTIPOLYGON (((124.20992 13.16871, 124.20993 ...</td>\n",
       "      <td>3.78</td>\n",
       "    </tr>\n",
       "  </tbody>\n",
       "</table>\n",
       "</div>"
      ],
      "text/plain": [
       "                  Shape_Leng  Shape_Area   ADM2_PCODE ADM2_REF ADM2ALT1EN  \\\n",
       "ADM2_EN                                                                     \n",
       "Abra                2.640967    0.334223  PH140100000     None       None   \n",
       "Agusan del Norte    3.674955    0.220065  PH160200000     None       None   \n",
       "Agusan del Sur      5.222636    0.693968  PH160300000     None       None   \n",
       "Aklan               4.626091    0.139664  PH060400000     None       None   \n",
       "Albay               6.507665    0.205939  PH050500000     None       None   \n",
       "\n",
       "                 ADM2ALT2EN                           ADM1_EN   ADM1_PCODE  \\\n",
       "ADM2_EN                                                                      \n",
       "Abra                   None  Cordillera Administrative Region  PH140000000   \n",
       "Agusan del Norte       None                       Region XIII  PH160000000   \n",
       "Agusan del Sur         None                       Region XIII  PH160000000   \n",
       "Aklan                  None                         Region VI  PH060000000   \n",
       "Albay                  None                          Region V  PH050000000   \n",
       "\n",
       "                            ADM0_EN ADM0_PCODE        date     validOn  \\\n",
       "ADM2_EN                                                                  \n",
       "Abra              Philippines (the)         PH  2016-06-30  2020-05-29   \n",
       "Agusan del Norte  Philippines (the)         PH  2016-06-30  2020-05-29   \n",
       "Agusan del Sur    Philippines (the)         PH  2016-06-30  2020-05-29   \n",
       "Aklan             Philippines (the)         PH  2016-06-30  2020-05-29   \n",
       "Albay             Philippines (the)         PH  2016-06-30  2020-05-29   \n",
       "\n",
       "                 validTo                                           geometry  \\\n",
       "ADM2_EN                                                                       \n",
       "Abra                None  POLYGON ((120.96109 17.95348, 120.97201 17.946...   \n",
       "Agusan del Norte    None  MULTIPOLYGON (((125.58886 9.45793, 125.59687 9...   \n",
       "Agusan del Sur      None  POLYGON ((125.88961 8.98195, 125.88896 8.96446...   \n",
       "Aklan               None  MULTIPOLYGON (((122.43980 11.59717, 122.43979 ...   \n",
       "Albay               None  MULTIPOLYGON (((124.20992 13.16871, 124.20993 ...   \n",
       "\n",
       "                  avg_specific_pv_output  \n",
       "ADM2_EN                                   \n",
       "Abra                                4.16  \n",
       "Agusan del Norte                    3.55  \n",
       "Agusan del Sur                      3.69  \n",
       "Aklan                               3.62  \n",
       "Albay                               3.78  "
      ]
     },
     "execution_count": 98,
     "metadata": {},
     "output_type": "execute_result"
    }
   ],
   "source": [
    "merged_solar.head()"
   ]
  },
  {
   "cell_type": "code",
   "execution_count": 69,
   "metadata": {},
   "outputs": [
    {
     "data": {
      "text/plain": [
       "ADM2_EN\n",
       "Abra                0.334223\n",
       "Agusan del Norte    0.220065\n",
       "Agusan del Sur      0.693968\n",
       "Aklan               0.139664\n",
       "Albay               0.205939\n",
       "Name: Shape_Area, dtype: float64"
      ]
     },
     "execution_count": 69,
     "metadata": {},
     "output_type": "execute_result"
    }
   ],
   "source": [
    "merged_solar.Shape_Area.head()"
   ]
  },
  {
   "cell_type": "code",
   "execution_count": 99,
   "metadata": {},
   "outputs": [
    {
     "name": "stderr",
     "output_type": "stream",
     "text": [
      "C:\\Users\\rayno\\AppData\\Local\\Temp\\ipykernel_7792\\2434594828.py:4: SettingWithCopyWarning: \n",
      "A value is trying to be set on a copy of a slice from a DataFrame\n",
      "\n",
      "See the caveats in the documentation: https://pandas.pydata.org/pandas-docs/stable/user_guide/indexing.html#returning-a-view-versus-a-copy\n",
      "  powerplants[variable_solar][index] = merged_solar.loc[a.index.array[0]][variable_solar]\n"
     ]
    }
   ],
   "source": [
    "for index, entry in powerplants.iterrows():\n",
    "    a = merged_solar.geometry.contains(entry['geometry'])\n",
    "    a = a[a == True]\n",
    "    powerplants[variable_solar][index] = merged_solar.loc[a.index.array[0]][variable_solar]\n",
    "    #powerplants[variable_solar+\"bin\"] = \n",
    "    #print(a.index.array[0], merged_solar.loc[a.index.array[0]][variable_solar])"
   ]
  },
  {
   "cell_type": "code",
   "execution_count": 100,
   "metadata": {},
   "outputs": [
    {
     "data": {
      "text/plain": [
       "18321     (4.174, 4.31]\n",
       "18332    (4.038, 4.174]\n",
       "18340    (3.766, 3.902]\n",
       "18341    (4.038, 4.174]\n",
       "18343    (3.902, 4.038]\n",
       "Name: avg_specific_pv_output, dtype: category\n",
       "Categories (5, interval[float64, right]): [(3.629, 3.766] < (3.766, 3.902] < (3.902, 4.038] < (4.038, 4.174] < (4.174, 4.31]]"
      ]
     },
     "execution_count": 100,
     "metadata": {},
     "output_type": "execute_result"
    }
   ],
   "source": [
    "a = pd.cut(powerplants.avg_specific_pv_output,5)\n",
    "a.head()"
   ]
  },
  {
   "cell_type": "code",
   "execution_count": 101,
   "metadata": {},
   "outputs": [
    {
     "data": {
      "text/html": [
       "<div>\n",
       "<style scoped>\n",
       "    .dataframe tbody tr th:only-of-type {\n",
       "        vertical-align: middle;\n",
       "    }\n",
       "\n",
       "    .dataframe tbody tr th {\n",
       "        vertical-align: top;\n",
       "    }\n",
       "\n",
       "    .dataframe thead th {\n",
       "        text-align: right;\n",
       "    }\n",
       "</style>\n",
       "<table border=\"1\" class=\"dataframe\">\n",
       "  <thead>\n",
       "    <tr style=\"text-align: right;\">\n",
       "      <th></th>\n",
       "      <th>country</th>\n",
       "      <th>country_long</th>\n",
       "      <th>name</th>\n",
       "      <th>gppd_idnr</th>\n",
       "      <th>capacity_mw</th>\n",
       "      <th>latitude</th>\n",
       "      <th>longitude</th>\n",
       "      <th>primary_fuel</th>\n",
       "      <th>other_fuel1</th>\n",
       "      <th>other_fuel2</th>\n",
       "      <th>...</th>\n",
       "      <th>estimated_generation_gwh_2016</th>\n",
       "      <th>estimated_generation_gwh_2017</th>\n",
       "      <th>estimated_generation_note_2013</th>\n",
       "      <th>estimated_generation_note_2014</th>\n",
       "      <th>estimated_generation_note_2015</th>\n",
       "      <th>estimated_generation_note_2016</th>\n",
       "      <th>estimated_generation_note_2017</th>\n",
       "      <th>geometry</th>\n",
       "      <th>avg_specific_pv_output</th>\n",
       "      <th>avg_specific_pv_output_bin</th>\n",
       "    </tr>\n",
       "  </thead>\n",
       "  <tbody>\n",
       "    <tr>\n",
       "      <th>18321</th>\n",
       "      <td>PHL</td>\n",
       "      <td>Philippines</td>\n",
       "      <td>Armenia Solar</td>\n",
       "      <td>WRI1029964</td>\n",
       "      <td>8.8</td>\n",
       "      <td>15.4605</td>\n",
       "      <td>120.5918</td>\n",
       "      <td>Solar</td>\n",
       "      <td>NaN</td>\n",
       "      <td>NaN</td>\n",
       "      <td>...</td>\n",
       "      <td>NaN</td>\n",
       "      <td>15.43</td>\n",
       "      <td>NO-ESTIMATION</td>\n",
       "      <td>NO-ESTIMATION</td>\n",
       "      <td>NO-ESTIMATION</td>\n",
       "      <td>NO-ESTIMATION</td>\n",
       "      <td>SOLAR-V1</td>\n",
       "      <td>POINT (120.59180 15.46050)</td>\n",
       "      <td>4.18</td>\n",
       "      <td>None</td>\n",
       "    </tr>\n",
       "    <tr>\n",
       "      <th>18332</th>\n",
       "      <td>PHL</td>\n",
       "      <td>Philippines</td>\n",
       "      <td>Burgos</td>\n",
       "      <td>WKS0065263</td>\n",
       "      <td>4.1</td>\n",
       "      <td>18.5280</td>\n",
       "      <td>120.6378</td>\n",
       "      <td>Solar</td>\n",
       "      <td>NaN</td>\n",
       "      <td>NaN</td>\n",
       "      <td>...</td>\n",
       "      <td>7.62</td>\n",
       "      <td>7.57</td>\n",
       "      <td>SOLAR-V1-NO-AGE</td>\n",
       "      <td>SOLAR-V1-NO-AGE</td>\n",
       "      <td>SOLAR-V1-NO-AGE</td>\n",
       "      <td>SOLAR-V1-NO-AGE</td>\n",
       "      <td>SOLAR-V1-NO-AGE</td>\n",
       "      <td>POINT (120.63780 18.52800)</td>\n",
       "      <td>4.13</td>\n",
       "      <td>None</td>\n",
       "    </tr>\n",
       "    <tr>\n",
       "      <th>18340</th>\n",
       "      <td>PHL</td>\n",
       "      <td>Philippines</td>\n",
       "      <td>CW Home Depot Solar</td>\n",
       "      <td>WRI1030484</td>\n",
       "      <td>1.7</td>\n",
       "      <td>14.2666</td>\n",
       "      <td>121.0790</td>\n",
       "      <td>Solar</td>\n",
       "      <td>NaN</td>\n",
       "      <td>NaN</td>\n",
       "      <td>...</td>\n",
       "      <td>NaN</td>\n",
       "      <td>2.30</td>\n",
       "      <td>NO-ESTIMATION</td>\n",
       "      <td>NO-ESTIMATION</td>\n",
       "      <td>NO-ESTIMATION</td>\n",
       "      <td>NO-ESTIMATION</td>\n",
       "      <td>CAPACITY-FACTOR-V1</td>\n",
       "      <td>POINT (121.07900 14.26660)</td>\n",
       "      <td>3.83</td>\n",
       "      <td>None</td>\n",
       "    </tr>\n",
       "    <tr>\n",
       "      <th>18341</th>\n",
       "      <td>PHL</td>\n",
       "      <td>Philippines</td>\n",
       "      <td>Cabanatuan Solar</td>\n",
       "      <td>WRI1023900</td>\n",
       "      <td>10.3</td>\n",
       "      <td>15.4968</td>\n",
       "      <td>120.9921</td>\n",
       "      <td>Solar</td>\n",
       "      <td>NaN</td>\n",
       "      <td>NaN</td>\n",
       "      <td>...</td>\n",
       "      <td>NaN</td>\n",
       "      <td>18.96</td>\n",
       "      <td>NO-ESTIMATION</td>\n",
       "      <td>NO-ESTIMATION</td>\n",
       "      <td>NO-ESTIMATION</td>\n",
       "      <td>NO-ESTIMATION</td>\n",
       "      <td>SOLAR-V1</td>\n",
       "      <td>POINT (120.99210 15.49680)</td>\n",
       "      <td>4.08</td>\n",
       "      <td>None</td>\n",
       "    </tr>\n",
       "    <tr>\n",
       "      <th>18343</th>\n",
       "      <td>PHL</td>\n",
       "      <td>Philippines</td>\n",
       "      <td>Calatagan Solar</td>\n",
       "      <td>WRI1023901</td>\n",
       "      <td>63.3</td>\n",
       "      <td>13.9155</td>\n",
       "      <td>120.6498</td>\n",
       "      <td>Solar</td>\n",
       "      <td>NaN</td>\n",
       "      <td>NaN</td>\n",
       "      <td>...</td>\n",
       "      <td>NaN</td>\n",
       "      <td>127.73</td>\n",
       "      <td>NO-ESTIMATION</td>\n",
       "      <td>NO-ESTIMATION</td>\n",
       "      <td>NO-ESTIMATION</td>\n",
       "      <td>NO-ESTIMATION</td>\n",
       "      <td>SOLAR-V1</td>\n",
       "      <td>POINT (120.64980 13.91550)</td>\n",
       "      <td>3.96</td>\n",
       "      <td>None</td>\n",
       "    </tr>\n",
       "  </tbody>\n",
       "</table>\n",
       "<p>5 rows × 39 columns</p>\n",
       "</div>"
      ],
      "text/plain": [
       "      country country_long                 name   gppd_idnr  capacity_mw  \\\n",
       "18321     PHL  Philippines        Armenia Solar  WRI1029964          8.8   \n",
       "18332     PHL  Philippines               Burgos  WKS0065263          4.1   \n",
       "18340     PHL  Philippines  CW Home Depot Solar  WRI1030484          1.7   \n",
       "18341     PHL  Philippines     Cabanatuan Solar  WRI1023900         10.3   \n",
       "18343     PHL  Philippines      Calatagan Solar  WRI1023901         63.3   \n",
       "\n",
       "       latitude  longitude primary_fuel other_fuel1 other_fuel2  ...  \\\n",
       "18321   15.4605   120.5918        Solar         NaN         NaN  ...   \n",
       "18332   18.5280   120.6378        Solar         NaN         NaN  ...   \n",
       "18340   14.2666   121.0790        Solar         NaN         NaN  ...   \n",
       "18341   15.4968   120.9921        Solar         NaN         NaN  ...   \n",
       "18343   13.9155   120.6498        Solar         NaN         NaN  ...   \n",
       "\n",
       "      estimated_generation_gwh_2016  estimated_generation_gwh_2017  \\\n",
       "18321                           NaN                          15.43   \n",
       "18332                          7.62                           7.57   \n",
       "18340                           NaN                           2.30   \n",
       "18341                           NaN                          18.96   \n",
       "18343                           NaN                         127.73   \n",
       "\n",
       "      estimated_generation_note_2013 estimated_generation_note_2014  \\\n",
       "18321                  NO-ESTIMATION                  NO-ESTIMATION   \n",
       "18332                SOLAR-V1-NO-AGE                SOLAR-V1-NO-AGE   \n",
       "18340                  NO-ESTIMATION                  NO-ESTIMATION   \n",
       "18341                  NO-ESTIMATION                  NO-ESTIMATION   \n",
       "18343                  NO-ESTIMATION                  NO-ESTIMATION   \n",
       "\n",
       "      estimated_generation_note_2015 estimated_generation_note_2016  \\\n",
       "18321                  NO-ESTIMATION                  NO-ESTIMATION   \n",
       "18332                SOLAR-V1-NO-AGE                SOLAR-V1-NO-AGE   \n",
       "18340                  NO-ESTIMATION                  NO-ESTIMATION   \n",
       "18341                  NO-ESTIMATION                  NO-ESTIMATION   \n",
       "18343                  NO-ESTIMATION                  NO-ESTIMATION   \n",
       "\n",
       "      estimated_generation_note_2017                    geometry  \\\n",
       "18321                       SOLAR-V1  POINT (120.59180 15.46050)   \n",
       "18332                SOLAR-V1-NO-AGE  POINT (120.63780 18.52800)   \n",
       "18340             CAPACITY-FACTOR-V1  POINT (121.07900 14.26660)   \n",
       "18341                       SOLAR-V1  POINT (120.99210 15.49680)   \n",
       "18343                       SOLAR-V1  POINT (120.64980 13.91550)   \n",
       "\n",
       "       avg_specific_pv_output  avg_specific_pv_output_bin  \n",
       "18321                    4.18                        None  \n",
       "18332                    4.13                        None  \n",
       "18340                    3.83                        None  \n",
       "18341                    4.08                        None  \n",
       "18343                    3.96                        None  \n",
       "\n",
       "[5 rows x 39 columns]"
      ]
     },
     "execution_count": 101,
     "metadata": {},
     "output_type": "execute_result"
    }
   ],
   "source": [
    "powerplants.head()"
   ]
  },
  {
   "cell_type": "code",
   "execution_count": 106,
   "metadata": {},
   "outputs": [
    {
     "data": {
      "image/png": "[encoded data removed]",
      "text/plain": [
       "<Figure size 432x288 with 1 Axes>"
      ]
     },
     "metadata": {
      "needs_background": "light"
     },
     "output_type": "display_data"
    }
   ],
   "source": [
    "ax = sns.histplot(x=variable_solar, y=\"capacity_mw\", data=powerplants, bins=5)"
   ]
  },
  {
   "cell_type": "code",
   "execution_count": 103,
   "metadata": {},
   "outputs": [
    {
     "data": {
      "image/png": "[encoded data removed]",
      "text/plain": [
       "<Figure size 432x288 with 1 Axes>"
      ]
     },
     "metadata": {
      "needs_background": "light"
     },
     "output_type": "display_data"
    }
   ],
   "source": [
    "a = sns.histplot(x=variable_solar, data=merged_solar, bins=5)"
   ]
  },
  {
   "cell_type": "code",
   "execution_count": 104,
   "metadata": {},
   "outputs": [
    {
     "data": {
      "image/png": "[encoded data removed]",
      "text/plain": [
       "<Figure size 432x288 with 1 Axes>"
      ]
     },
     "metadata": {
      "needs_background": "light"
     },
     "output_type": "display_data"
    }
   ],
   "source": [
    "b = sns.histplot(data=powerplants, x=variable_solar, bins=5)"
   ]
  },
  {
   "cell_type": "code",
   "execution_count": 105,
   "metadata": {},
   "outputs": [
    {
     "data": {
      "image/png": "[encoded data removed]",
      "text/plain": [
       "<Figure size 432x288 with 1 Axes>"
      ]
     },
     "metadata": {
      "needs_background": "light"
     },
     "output_type": "display_data"
    }
   ],
   "source": [
    "ax = sns.barplot(x=variable_solar, y=\"capacity_mw\", data=powerplants)"
   ]
  }
 ],
 "metadata": {
  "interpreter": {
   "hash": "b89b5cfaba6639976dc87ff2fec6d58faec662063367e2c229c520fe71072417"
  },
  "kernelspec": {
   "display_name": "Python 3.10.4 64-bit",
   "language": "python",
   "name": "python3"
  },
  "language_info": {
   "codemirror_mode": {
    "name": "ipython",
    "version": 3
   },
   "file_extension": ".py",
   "mimetype": "text/x-python",
   "name": "python",
   "nbconvert_exporter": "python",
   "pygments_lexer": "ipython3",
   "version": "3.10.4"
  },
  "orig_nbformat": 4
 },
 "nbformat": 4,
 "nbformat_minor": 2
}
